{
 "cells": [
  {
   "cell_type": "markdown",
   "metadata": {},
   "source": [
    "# Airline Analysis"
   ]
  },
  {
   "cell_type": "markdown",
   "metadata": {},
   "source": [
    "In this project, you'll imagine that you work for a travel agency and need to know the ins and outs of airline prices for your clients. You want to make sure that you can find the best deal for your client and help them to understand how airline prices change based on different factors.\n",
    "\n",
    "You decide to look into your favorite airline. The data include:\n",
    "- `miles`: miles traveled through the flight\n",
    "- `passengers`: number of passengers on the flight\n",
    "- `delay`: take-off delay in minutes\n",
    "- `inflight_meal`: is there a meal included in the flight?\n",
    "- `inflight_entertainment`: are there free entertainment systems for each seat?\n",
    "- `inflight_wifi`: is there complimentary wifi on the flight?\n",
    "- `day_of_week`: day of the week of the flight\n",
    "- `weekend`: did this flight take place on a weekend?\n",
    "- `coach_price`: the average price paid for a coach ticket\n",
    "- `firstclass_price`: the average price paid for first-class seats\n",
    "- `hours`: how many hours the flight took\n",
    "- `redeye`: was this flight a redeye (overnight)?\n",
    "\n",
    "In this project, you'll explore a dataset for the first time and get to know each of these features. Keep in mind that there's no one right way to address each of these questions. The goal is simply to explore and get to know the data using whatever methods come to mind.\n",
    "\n",
    "You will be working in this file. Note that there is the file **Airline Analysis_Solution.ipynb** that contains the solution code for this project. We highly recommend that you complete the project on your own without checking the solution, but feel free to take a look if you get stuck or if you want to compare answers when you're done.\n",
    "\n",
    "In order to get the plots to appear correctly in the notebook, you'll need to show and then clear each plot before creating the next one using the following code:\n",
    "\n",
    "```py\n",
    "plt.show() # Show the plot\n",
    "plt.clf() # Clear the plot\n",
    "```\n",
    "\n",
    "Clearing the plot will not erase the plot from view, it will just create a new space for the following graphic."
   ]
  },
  {
   "cell_type": "markdown",
   "metadata": {},
   "source": [
    "## Univariate Analysis"
   ]
  },
  {
   "cell_type": "markdown",
   "metadata": {},
   "source": [
    "1. What do coach ticket prices look like? What are the high and low values? What would be considered the average? Does $500 seem like a good price for a coach ticket?"
   ]
  },
  {
   "cell_type": "code",
   "execution_count": 3,
   "metadata": {},
   "outputs": [],
   "source": [
    "import pandas as pd\n",
    "import numpy as np\n",
    "import seaborn as sns\n",
    "import statsmodels.api as sm\n",
    "import matplotlib.pyplot as plt\n",
    "import math\n",
    "\n",
    "flight = pd.read_csv(\"flight.csv\")\n",
    "#print(flight.head())"
   ]
  },
  {
   "cell_type": "code",
   "execution_count": 30,
   "metadata": {},
   "outputs": [
    {
     "data": {
      "text/plain": [
       "129780"
      ]
     },
     "execution_count": 30,
     "metadata": {},
     "output_type": "execute_result"
    }
   ],
   "source": [
    "len(flight.coach_price)"
   ]
  },
  {
   "cell_type": "code",
   "execution_count": 2,
   "metadata": {},
   "outputs": [
    {
     "name": "stdout",
     "output_type": "stream",
     "text": [
      "The average coach price is $377.\n",
      "The minimum coach price is $44.\n",
      "The maximum coach price is $594.\n",
      "\n",
      "The $500 coach ticket is in the upper 2% of the coach tickets,\n",
      "so this is relatively far from the interquartile range, which is between\n",
      "these two values: [331.445   426.67625]. \n",
      "The upper 2% range is between these two numbers [499.1113 593.635 ]\n"
     ]
    }
   ],
   "source": [
    "print(f'The average coach price is ${int(round(np.mean(flight.coach_price)))}.')\n",
    "print(f'The minimum coach price is ${int(round(np.min(flight.coach_price)))}.')\n",
    "print(f'The maximum coach price is ${int(round(np.max(flight.coach_price)))}.')\n",
    "print(f'''\\nThe $500 coach ticket is in the upper 2% of the coach tickets,\n",
    "so this is relatively far from the interquartile range, which is between\n",
    "these two values: {np.percentile(flight.coach_price, [25,75])}. \n",
    "The upper 2% range is between these two numbers {np.percentile(flight.coach_price, [98,100])}''')"
   ]
  },
  {
   "cell_type": "code",
   "execution_count": 57,
   "metadata": {},
   "outputs": [
    {
     "name": "stdout",
     "output_type": "stream",
     "text": [
      "The min coach price is $44\n",
      "The max coach price is $593\n",
      "The mean coach price is $376\n",
      "The median coach price is $380\n",
      "The standard deviation is $67\n",
      "\n",
      "The upper 2% of the data spreads in [499.1113 593.635 ] prices, meaning\n",
      "that the $500 ticket is in that range.\n"
     ]
    }
   ],
   "source": [
    "stats = ['min', 'max', 'mean', 'median', 'std']\n",
    "a = flight.coach_price.aggregate(stats)\n",
    "for i in range(len(stats)-1):\n",
    "    print(f'The {stats[i]} coach price is ${int(a[i])}')\n",
    "print(f'''The standard deviation is ${int(a[-1])}\\n\n",
    "The upper 2% of the data spreads in {np.percentile(flight.coach_price, [98,100])} prices, meaning\n",
    "that the $500 ticket is in that range.''')"
   ]
  },
  {
   "cell_type": "code",
   "execution_count": null,
   "metadata": {},
   "outputs": [],
   "source": [
    "#flight.coach_price.describe()"
   ]
  },
  {
   "cell_type": "code",
   "execution_count": null,
   "metadata": {},
   "outputs": [],
   "source": [
    "#flight.describe(include='all')"
   ]
  },
  {
   "cell_type": "markdown",
   "metadata": {},
   "source": [
    "2. Now visualize the coach ticket prices for flights that are 8 hours long. What are the high, low, and average prices for 8-hour-long flights? Does a $500 dollar ticket seem more reasonable than before?"
   ]
  },
  {
   "cell_type": "code",
   "execution_count": null,
   "metadata": {},
   "outputs": [],
   "source": [
    "## Task 2"
   ]
  },
  {
   "cell_type": "code",
   "execution_count": 9,
   "metadata": {},
   "outputs": [
    {
     "data": {
      "text/plain": [
       "44.415"
      ]
     },
     "execution_count": 9,
     "metadata": {},
     "output_type": "execute_result"
    }
   ],
   "source": [
    "flight.coach_price.aggregate(['min', 'max', 'mean'])[0]"
   ]
  },
  {
   "cell_type": "code",
   "execution_count": null,
   "metadata": {},
   "outputs": [],
   "source": [
    "flight['coach_price_long'] = flight.coach_price[flight.hours == 8]"
   ]
  },
  {
   "cell_type": "code",
   "execution_count": null,
   "metadata": {
    "scrolled": false
   },
   "outputs": [],
   "source": [
    "flight.reset_index()"
   ]
  },
  {
   "cell_type": "code",
   "execution_count": null,
   "metadata": {},
   "outputs": [],
   "source": [
    "sns.displot(flight.coach_price_long, kde=True, color='darkgreen')\n",
    "plt.title('Distribution of \"coach prices\" in 8 hour-long flights', fontsize=10)\n",
    "plt.xlabel('Coach prices ($)', fontsize=9)\n",
    "plt.ylabel('Count (number of flights)', fontsize=9)\n",
    "plt.show()\n",
    "plt.clf()"
   ]
  },
  {
   "cell_type": "code",
   "execution_count": null,
   "metadata": {},
   "outputs": [],
   "source": [
    "sns.boxplot(y='coach_price_long', data=flight, color='green')\n",
    "plt.title('Boxplot of \"coach prices\" in 8 hour-long flights', fontsize=10)\n",
    "plt.ylabel('Coach prices ($)', fontsize=9)\n",
    "plt.show()\n",
    "plt.clf()"
   ]
  },
  {
   "cell_type": "code",
   "execution_count": null,
   "metadata": {},
   "outputs": [],
   "source": [
    "print('The $500 ticket price is more reasonable in a 8 hour-long flight.')"
   ]
  },
  {
   "cell_type": "markdown",
   "metadata": {},
   "source": [
    "3. How are flight delay times distributed? Let's say there is a short amount of time between two connecting flights, and a flight delay would put the client at risk of missing their connecting flight. You want to better understand how often there are large delays so you can correctly set up connecting flights. What kinds of delays are typical?"
   ]
  },
  {
   "cell_type": "code",
   "execution_count": null,
   "metadata": {},
   "outputs": [],
   "source": [
    "print(flight.delay.unique())"
   ]
  },
  {
   "cell_type": "code",
   "execution_count": null,
   "metadata": {},
   "outputs": [],
   "source": [
    "## Task 3\n",
    "big_delayes = flight.delay[flight.delay > 58]\n",
    "sns.histplot(big_delayes, kde=True, bins=11, color='darkred')\n",
    "plt.title('Distribution of \"relevant delays\" (more than one hour)', fontsize=10)\n",
    "plt.xlabel('Minutes of delays', fontsize=9)\n",
    "plt.ylabel('Count (number of delays)', fontsize=9)\n",
    "plt.text(x= 1500, y= 25, s=f'''The number of delays in range of \\n {np.min(big_delayes)} and {np.max(big_delayes)} minutes is {len(big_delayes)}\n",
    " out of the total {len(flight.delay):,} flights''', fontsize=8, color='darkred')\n",
    "plt.show()\n",
    "plt.clf()"
   ]
  },
  {
   "cell_type": "code",
   "execution_count": null,
   "metadata": {},
   "outputs": [],
   "source": [
    "small_delayes = flight.delay[(flight.delay >= 9) & (flight.delay <= 58)]\n",
    "sns.histplot(small_delayes, kde=True, bins=11, color='green')\n",
    "plt.title('Distribution of \"not relevant delays\" (less than one hour)', fontsize=10)\n",
    "plt.xlabel('Minutes of delays', fontsize=9)\n",
    "plt.ylabel('Count (number of delays)', fontsize=9)\n",
    "plt.text(x= 30, y= 40000, s=f'''The number of delays in range of \\n {np.min(small_delayes)} and {np.max(small_delayes)} minutes is {len(small_delayes)}\n",
    " out of the total {len(flight.delay):,} flights''', fontsize=8, color='green')\n",
    "plt.show()\n",
    "plt.clf()"
   ]
  },
  {
   "cell_type": "code",
   "execution_count": null,
   "metadata": {},
   "outputs": [],
   "source": [
    "#print(f'The number of flights having \"relevant delays\" is {len(big_delayes)}.')\n",
    "#print(f'The total number of flights is {len(flight.delay):,}.')"
   ]
  },
  {
   "cell_type": "markdown",
   "metadata": {},
   "source": [
    "## Bivariate Analysis"
   ]
  },
  {
   "cell_type": "markdown",
   "metadata": {},
   "source": [
    "4. Create a visualization that shows the relationship between coach and first-class prices. What is the relationship between these two prices? Do flights with higher coach prices always have higher first-class prices as well?"
   ]
  },
  {
   "cell_type": "code",
   "execution_count": null,
   "metadata": {},
   "outputs": [],
   "source": [
    "## Task 4"
   ]
  },
  {
   "cell_type": "code",
   "execution_count": null,
   "metadata": {},
   "outputs": [],
   "source": [
    "sns.scatterplot(x='coach_price', y='firstclass_price', data=flight, hue='weekend', alpha=0.4)\n",
    "plt.title('Relationship between coach and firstclass prices', fontsize=10)\n",
    "plt.xlabel('Coach prices ($)', fontsize=9)\n",
    "plt.ylabel('Firstclass prices ($)', fontsize=9)\n",
    "plt.show()\n",
    "plt.clf()"
   ]
  },
  {
   "cell_type": "code",
   "execution_count": null,
   "metadata": {},
   "outputs": [],
   "source": [
    "print('''The scatterplot shows not just that higher coach prices have higher firstclass prices, which means there is a strong \n",
    "correlation between them, but it is 100% sure, that flying in firstclass on weekdays is much cheaper than at weekends.''')"
   ]
  },
  {
   "cell_type": "markdown",
   "metadata": {},
   "source": [
    "5. What is the relationship between coach prices and inflight features &mdash; inflight meal, inflight entertainment, and inflight WiFi? Which features are associated with the highest increase in price?"
   ]
  },
  {
   "cell_type": "code",
   "execution_count": null,
   "metadata": {},
   "outputs": [],
   "source": [
    "## Task 5\n",
    "\n"
   ]
  },
  {
   "cell_type": "code",
   "execution_count": null,
   "metadata": {
    "scrolled": true
   },
   "outputs": [],
   "source": [
    "sns.boxplot(x='inflight_meal', y='coach_price', data=flight, palette='pastel')\n",
    "plt.title(f'Relationship between inflight meal and coach price', fontsize=10)\n",
    "plt.show()\n",
    "plt.clf()"
   ]
  },
  {
   "cell_type": "code",
   "execution_count": null,
   "metadata": {},
   "outputs": [],
   "source": [
    "sns.boxplot(x='inflight_entertainment', y='coach_price', data=flight, palette='pastel')\n",
    "plt.title(f'Relationship between inflight entertainment and coach price', fontsize=10)\n",
    "plt.show()\n",
    "plt.clf()"
   ]
  },
  {
   "cell_type": "code",
   "execution_count": null,
   "metadata": {},
   "outputs": [],
   "source": [
    "sns.boxplot(x='inflight_wifi', y='coach_price', data=flight, palette='pastel')\n",
    "plt.title(f'Relationship between inflight_wifi and coach price', fontsize=10)\n",
    "plt.show()\n",
    "plt.clf()"
   ]
  },
  {
   "cell_type": "code",
   "execution_count": null,
   "metadata": {},
   "outputs": [],
   "source": [
    "print('Meal does not have much effect on coach prices, but wifi has little and entertainment is the most influential among them.')"
   ]
  },
  {
   "cell_type": "markdown",
   "metadata": {},
   "source": [
    "6. How does the number of passengers change in relation to the length of flights?"
   ]
  },
  {
   "cell_type": "code",
   "execution_count": null,
   "metadata": {},
   "outputs": [],
   "source": [
    "## Task 6\n",
    "\n"
   ]
  },
  {
   "cell_type": "code",
   "execution_count": null,
   "metadata": {},
   "outputs": [],
   "source": [
    "sns.set_palette(\"Spectral\")\n",
    "sns.barplot(x='hours', y='passengers', data=flight)\n",
    "plt.title('Number of passengers depending on flight hours', fontsize=10)\n",
    "plt.xlabel('Flight hours', fontsize=9)\n",
    "plt.ylabel('Number of passengers', fontsize=9)\n",
    "plt.show()\n",
    "plt.clf()"
   ]
  },
  {
   "cell_type": "code",
   "execution_count": null,
   "metadata": {},
   "outputs": [],
   "source": [
    "model = sm.OLS.from_formula('firstclass_price ~ coach_price', data=flight).fit()\n",
    "pred_400 = model.params[0] + model.params[1]*400\n",
    "#print(model.params)\n",
    "#print(pred_400)\n",
    "a = 700\n",
    "data = {'coach_price':[a]}\n",
    "pred_700 = model.predict(data)\n",
    "print(f'If the coach price will exceed the ${a} level, the predicted firstclass price will reach ${int(round(pred_700[0], 3))}.')"
   ]
  },
  {
   "cell_type": "code",
   "execution_count": null,
   "metadata": {},
   "outputs": [],
   "source": [
    "fitted_values = model.predict(flight)\n",
    "residuals = flight.firstclass_price - fitted_values"
   ]
  },
  {
   "cell_type": "code",
   "execution_count": null,
   "metadata": {},
   "outputs": [],
   "source": [
    "plt.scatter(fitted_values, residuals, color='gray', alpha=0.5)\n",
    "plt.title('Scatter plot of fitted values and residuals of firstclass prices', fontsize=10)\n",
    "plt.xlabel('Fitted values', fontsize=9)\n",
    "plt.ylabel('Residuals', fontsize=9)\n",
    "plt.axhline(0, color='black')\n",
    "plt.show()\n",
    "plt.clf()"
   ]
  },
  {
   "cell_type": "markdown",
   "metadata": {},
   "source": [
    "## Multivariate Analysis"
   ]
  },
  {
   "cell_type": "markdown",
   "metadata": {},
   "source": [
    "7. Visualize the relationship between coach and first-class prices on weekends compared to weekdays."
   ]
  },
  {
   "cell_type": "code",
   "execution_count": null,
   "metadata": {},
   "outputs": [],
   "source": [
    "## Task 7 \n",
    "sns.lmplot(x='coach_price', y='firstclass_price', data=flight, hue='weekend', fit_reg=False)\n",
    "plt.title('Relationship between coach and firstclass prices colored by weekend', fontsize=10)\n",
    "plt.xlabel('Coach prices ($)', fontsize=9)\n",
    "plt.ylabel('Firstclass prices ($)', fontsize=9)\n",
    "plt.plot(flight.coach_price, fitted_values, color='darkblue')\n",
    "plt.text(x=200, y=1200, s='Linear regression line', rotation=46.5)\n",
    "plt.show()\n",
    "plt.clf()"
   ]
  },
  {
   "cell_type": "markdown",
   "metadata": {},
   "source": [
    "8. How do coach prices differ for redeyes and non-redeyes on each day of the week?"
   ]
  },
  {
   "cell_type": "code",
   "execution_count": null,
   "metadata": {},
   "outputs": [],
   "source": [
    "## Task 8\n",
    "sns.scatterplot(x='coach_price', y='redeye', data=flight, hue='day_of_week', alpha=0.8)\n",
    "plt.title('Relationship between coach prices and redeye colored bye \"weekdays\"', fontsize=10)\n",
    "plt.xlabel('Coach prices ($)', fontsize=9)\n",
    "plt.ylabel('Redeye (yes=night flight, no=day flight)', fontsize=9)\n",
    "plt.show()\n",
    "plt.clf()"
   ]
  },
  {
   "cell_type": "code",
   "execution_count": null,
   "metadata": {},
   "outputs": [],
   "source": [
    "plt.figure(figsize=[6,6])\n",
    "sns.boxplot(x='day_of_week', y='coach_price', data=flight, order=['Monday', 'Tuesday', 'Wednesday', 'Thursday', 'Friday', 'Saturday', 'Sunday'], hue='redeye')\n",
    "plt.title('Relationship between days and coach prices colored by \"redeye\"', fontsize=10)\n",
    "plt.xticks(rotation=30)\n",
    "plt.show()\n",
    "plt.clf()"
   ]
  },
  {
   "cell_type": "code",
   "execution_count": null,
   "metadata": {},
   "outputs": [],
   "source": []
  }
 ],
 "metadata": {
  "kernelspec": {
   "display_name": "Python 3 (ipykernel)",
   "language": "python",
   "name": "python3"
  },
  "language_info": {
   "codemirror_mode": {
    "name": "ipython",
    "version": 3
   },
   "file_extension": ".py",
   "mimetype": "text/x-python",
   "name": "python",
   "nbconvert_exporter": "python",
   "pygments_lexer": "ipython3",
   "version": "3.10.9"
  }
 },
 "nbformat": 4,
 "nbformat_minor": 2
}
