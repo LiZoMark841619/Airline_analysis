{
 "cells": [
  {
   "cell_type": "markdown",
   "metadata": {},
   "source": [
    "# Airline Analysis"
   ]
  },
  {
   "cell_type": "markdown",
   "metadata": {},
   "source": [
    "In this project, you'll imagine that you work for a travel agency and need to know the ins and outs of airline prices for your clients. You want to make sure that you can find the best deal for your client and help them to understand how airline prices change based on different factors.\n",
    "\n",
    "You decide to look into your favorite airline. The data include:\n",
    "- `miles`: miles traveled through the flight\n",
    "- `passengers`: number of passengers on the flight\n",
    "- `delay`: take-off delay in minutes\n",
    "- `inflight_meal`: is there a meal included in the flight?\n",
    "- `inflight_entertainment`: are there free entertainment systems for each seat?\n",
    "- `inflight_wifi`: is there complimentary wifi on the flight?\n",
    "- `day_of_week`: day of the week of the flight\n",
    "- `weekend`: did this flight take place on a weekend?\n",
    "- `coach_price`: the average price paid for a coach ticket\n",
    "- `firstclass_price`: the average price paid for first-class seats\n",
    "- `hours`: how many hours the flight took\n",
    "- `redeye`: was this flight a redeye (overnight)?\n",
    "\n",
    "In this project, you'll explore a dataset for the first time and get to know each of these features. Keep in mind that there's no one right way to address each of these questions. The goal is simply to explore and get to know the data using whatever methods come to mind.\n",
    "\n",
    "You will be working in this file. Note that there is the file **Airline Analysis_Solution.ipynb** that contains the solution code for this project. We highly recommend that you complete the project on your own without checking the solution, but feel free to take a look if you get stuck or if you want to compare answers when you're done.\n",
    "\n",
    "In order to get the plots to appear correctly in the notebook, you'll need to show and then clear each plot before creating the next one using the following code:\n",
    "\n",
    "```py\n",
    "plt.show() # Show the plot\n",
    "plt.clf() # Clear the plot\n",
    "```\n",
    "\n",
    "Clearing the plot will not erase the plot from view, it will just create a new space for the following graphic."
   ]
  },
  {
   "cell_type": "markdown",
   "metadata": {},
   "source": [
    "## Univariate Analysis"
   ]
  },
  {
   "cell_type": "markdown",
   "metadata": {},
   "source": [
    "1. What do coach ticket prices look like? What are the high and low values? What would be considered the average? Does $500 seem like a good price for a coach ticket?"
   ]
  },
  {
   "cell_type": "code",
   "execution_count": 677,
   "metadata": {},
   "outputs": [],
   "source": [
    "import pandas as pd\n",
    "import numpy as np\n",
    "import seaborn as sns\n",
    "import statsmodels.api as sm\n",
    "import matplotlib.pyplot as plt\n",
    "import math\n",
    "import warnings"
   ]
  },
  {
   "cell_type": "code",
   "execution_count": 678,
   "metadata": {},
   "outputs": [],
   "source": [
    "warnings.filterwarnings('ignore')"
   ]
  },
  {
   "cell_type": "code",
   "execution_count": 679,
   "metadata": {},
   "outputs": [
    {
     "data": {
      "text/html": [
       "<div>\n",
       "<style scoped>\n",
       "    .dataframe tbody tr th:only-of-type {\n",
       "        vertical-align: middle;\n",
       "    }\n",
       "\n",
       "    .dataframe tbody tr th {\n",
       "        vertical-align: top;\n",
       "    }\n",
       "\n",
       "    .dataframe thead th {\n",
       "        text-align: right;\n",
       "    }\n",
       "</style>\n",
       "<table border=\"1\" class=\"dataframe\">\n",
       "  <thead>\n",
       "    <tr style=\"text-align: right;\">\n",
       "      <th></th>\n",
       "      <th>miles</th>\n",
       "      <th>passengers</th>\n",
       "      <th>delay</th>\n",
       "      <th>inflight_meal</th>\n",
       "      <th>inflight_entertainment</th>\n",
       "      <th>inflight_wifi</th>\n",
       "      <th>day_of_week</th>\n",
       "      <th>redeye</th>\n",
       "      <th>weekend</th>\n",
       "      <th>coach_price</th>\n",
       "      <th>firstclass_price</th>\n",
       "      <th>hours</th>\n",
       "    </tr>\n",
       "  </thead>\n",
       "  <tbody>\n",
       "    <tr>\n",
       "      <th>0</th>\n",
       "      <td>792</td>\n",
       "      <td>172</td>\n",
       "      <td>0</td>\n",
       "      <td>No</td>\n",
       "      <td>Yes</td>\n",
       "      <td>Yes</td>\n",
       "      <td>Sunday</td>\n",
       "      <td>Yes</td>\n",
       "      <td>Yes</td>\n",
       "      <td>338.820</td>\n",
       "      <td>1571.02</td>\n",
       "      <td>1</td>\n",
       "    </tr>\n",
       "    <tr>\n",
       "      <th>1</th>\n",
       "      <td>3163</td>\n",
       "      <td>214</td>\n",
       "      <td>0</td>\n",
       "      <td>No</td>\n",
       "      <td>Yes</td>\n",
       "      <td>Yes</td>\n",
       "      <td>Sunday</td>\n",
       "      <td>No</td>\n",
       "      <td>Yes</td>\n",
       "      <td>472.655</td>\n",
       "      <td>1663.70</td>\n",
       "      <td>6</td>\n",
       "    </tr>\n",
       "    <tr>\n",
       "      <th>2</th>\n",
       "      <td>1832</td>\n",
       "      <td>212</td>\n",
       "      <td>0</td>\n",
       "      <td>No</td>\n",
       "      <td>Yes</td>\n",
       "      <td>No</td>\n",
       "      <td>Friday</td>\n",
       "      <td>No</td>\n",
       "      <td>Yes</td>\n",
       "      <td>351.960</td>\n",
       "      <td>1429.86</td>\n",
       "      <td>3</td>\n",
       "    </tr>\n",
       "  </tbody>\n",
       "</table>\n",
       "</div>"
      ],
      "text/plain": [
       "   miles  passengers  delay inflight_meal inflight_entertainment  \\\n",
       "0    792         172      0            No                    Yes   \n",
       "1   3163         214      0            No                    Yes   \n",
       "2   1832         212      0            No                    Yes   \n",
       "\n",
       "  inflight_wifi day_of_week redeye weekend  coach_price  firstclass_price  \\\n",
       "0           Yes      Sunday    Yes     Yes      338.820           1571.02   \n",
       "1           Yes      Sunday     No     Yes      472.655           1663.70   \n",
       "2            No      Friday     No     Yes      351.960           1429.86   \n",
       "\n",
       "   hours  \n",
       "0      1  \n",
       "1      6  \n",
       "2      3  "
      ]
     },
     "execution_count": 679,
     "metadata": {},
     "output_type": "execute_result"
    }
   ],
   "source": [
    "flight = pd.read_csv(\"flight.csv\")\n",
    "flight.head(3)"
   ]
  },
  {
   "cell_type": "code",
   "execution_count": 680,
   "metadata": {},
   "outputs": [
    {
     "name": "stdout",
     "output_type": "stream",
     "text": [
      "The min coach price is $44\n",
      "The max coach price is $593\n",
      "The mean coach price is $376\n",
      "The median coach price is $380\n",
      "The standard deviation is $67\n"
     ]
    }
   ],
   "source": [
    "stats = ['min', 'max', 'mean', 'median', 'std']\n",
    "a = flight.coach_price.aggregate(stats)\n",
    "for i in range(len(stats)-1):\n",
    "    print(f'The {stats[i]} coach price is ${int(a[i])}')\n",
    "print(f'The standard deviation is ${int(a[-1])}')"
   ]
  },
  {
   "cell_type": "code",
   "execution_count": 681,
   "metadata": {},
   "outputs": [
    {
     "data": {
      "text/plain": [
       "array([426.67625, 593.635  ])"
      ]
     },
     "execution_count": 681,
     "metadata": {},
     "output_type": "execute_result"
    }
   ],
   "source": [
    "np.percentile(flight.coach_price, [75, 100])"
   ]
  },
  {
   "cell_type": "code",
   "execution_count": 682,
   "metadata": {},
   "outputs": [],
   "source": [
    "def spreads(series, upper, price):\n",
    "    b, c = 100, 100-upper\n",
    "    d = np.percentile(series, [b, c])\n",
    "    s = f'The upper {b-c}% of the data spreads in {round(d[1])} and {round(d[0])} values.'\n",
    "    if price < d[0] and price > d[1]:\n",
    "        s1 = f' The ${price} ticket is IN that range.'\n",
    "    elif d[0]-d[1] == 0:\n",
    "        s1 = ' There is no range.'\n",
    "    else:\n",
    "        s1 = f' The ${price} ticket is NOT IN that range.'\n",
    "    return s + s1"
   ]
  },
  {
   "cell_type": "code",
   "execution_count": 683,
   "metadata": {},
   "outputs": [
    {
     "data": {
      "text/plain": [
       "'The upper 25% of the data spreads in 427 and 594 values. The $500 ticket is IN that range.'"
      ]
     },
     "execution_count": 683,
     "metadata": {},
     "output_type": "execute_result"
    }
   ],
   "source": [
    "spreads(flight.coach_price, 25, 500)"
   ]
  },
  {
   "cell_type": "code",
   "execution_count": 684,
   "metadata": {},
   "outputs": [
    {
     "data": {
      "text/html": [
       "<div>\n",
       "<style scoped>\n",
       "    .dataframe tbody tr th:only-of-type {\n",
       "        vertical-align: middle;\n",
       "    }\n",
       "\n",
       "    .dataframe tbody tr th {\n",
       "        vertical-align: top;\n",
       "    }\n",
       "\n",
       "    .dataframe thead th {\n",
       "        text-align: right;\n",
       "    }\n",
       "</style>\n",
       "<table border=\"1\" class=\"dataframe\">\n",
       "  <thead>\n",
       "    <tr style=\"text-align: right;\">\n",
       "      <th></th>\n",
       "      <th>miles</th>\n",
       "      <th>passengers</th>\n",
       "      <th>delay</th>\n",
       "      <th>coach_price</th>\n",
       "      <th>firstclass_price</th>\n",
       "      <th>hours</th>\n",
       "    </tr>\n",
       "  </thead>\n",
       "  <tbody>\n",
       "    <tr>\n",
       "      <th>count</th>\n",
       "      <td>129780.000000</td>\n",
       "      <td>129780.000000</td>\n",
       "      <td>129780.000000</td>\n",
       "      <td>129780.000000</td>\n",
       "      <td>129780.000000</td>\n",
       "      <td>129780.000000</td>\n",
       "    </tr>\n",
       "    <tr>\n",
       "      <th>mean</th>\n",
       "      <td>2006.224696</td>\n",
       "      <td>207.723155</td>\n",
       "      <td>13.162845</td>\n",
       "      <td>376.585253</td>\n",
       "      <td>1454.931785</td>\n",
       "      <td>3.631214</td>\n",
       "    </tr>\n",
       "    <tr>\n",
       "      <th>std</th>\n",
       "      <td>943.034768</td>\n",
       "      <td>12.776363</td>\n",
       "      <td>41.941680</td>\n",
       "      <td>67.744274</td>\n",
       "      <td>162.590434</td>\n",
       "      <td>1.739118</td>\n",
       "    </tr>\n",
       "    <tr>\n",
       "      <th>min</th>\n",
       "      <td>12.000000</td>\n",
       "      <td>135.000000</td>\n",
       "      <td>0.000000</td>\n",
       "      <td>44.415000</td>\n",
       "      <td>939.100000</td>\n",
       "      <td>1.000000</td>\n",
       "    </tr>\n",
       "    <tr>\n",
       "      <th>25%</th>\n",
       "      <td>1343.000000</td>\n",
       "      <td>204.000000</td>\n",
       "      <td>9.000000</td>\n",
       "      <td>331.445000</td>\n",
       "      <td>1302.200000</td>\n",
       "      <td>2.000000</td>\n",
       "    </tr>\n",
       "    <tr>\n",
       "      <th>50%</th>\n",
       "      <td>1986.000000</td>\n",
       "      <td>210.000000</td>\n",
       "      <td>10.000000</td>\n",
       "      <td>380.560000</td>\n",
       "      <td>1503.840000</td>\n",
       "      <td>4.000000</td>\n",
       "    </tr>\n",
       "    <tr>\n",
       "      <th>75%</th>\n",
       "      <td>2468.000000</td>\n",
       "      <td>215.000000</td>\n",
       "      <td>13.000000</td>\n",
       "      <td>426.676250</td>\n",
       "      <td>1582.370000</td>\n",
       "      <td>4.000000</td>\n",
       "    </tr>\n",
       "    <tr>\n",
       "      <th>max</th>\n",
       "      <td>4548.000000</td>\n",
       "      <td>244.000000</td>\n",
       "      <td>1560.000000</td>\n",
       "      <td>593.635000</td>\n",
       "      <td>1846.780000</td>\n",
       "      <td>8.000000</td>\n",
       "    </tr>\n",
       "  </tbody>\n",
       "</table>\n",
       "</div>"
      ],
      "text/plain": [
       "               miles     passengers          delay    coach_price  \\\n",
       "count  129780.000000  129780.000000  129780.000000  129780.000000   \n",
       "mean     2006.224696     207.723155      13.162845     376.585253   \n",
       "std       943.034768      12.776363      41.941680      67.744274   \n",
       "min        12.000000     135.000000       0.000000      44.415000   \n",
       "25%      1343.000000     204.000000       9.000000     331.445000   \n",
       "50%      1986.000000     210.000000      10.000000     380.560000   \n",
       "75%      2468.000000     215.000000      13.000000     426.676250   \n",
       "max      4548.000000     244.000000    1560.000000     593.635000   \n",
       "\n",
       "       firstclass_price          hours  \n",
       "count     129780.000000  129780.000000  \n",
       "mean        1454.931785       3.631214  \n",
       "std          162.590434       1.739118  \n",
       "min          939.100000       1.000000  \n",
       "25%         1302.200000       2.000000  \n",
       "50%         1503.840000       4.000000  \n",
       "75%         1582.370000       4.000000  \n",
       "max         1846.780000       8.000000  "
      ]
     },
     "execution_count": 684,
     "metadata": {},
     "output_type": "execute_result"
    }
   ],
   "source": [
    "flight.describe()"
   ]
  },
  {
   "cell_type": "markdown",
   "metadata": {},
   "source": [
    "2. Now visualize the coach ticket prices for flights that are 8 hours long. What are the high, low, and average prices for 8-hour-long flights? Does a $500 dollar ticket seem more reasonable than before?"
   ]
  },
  {
   "cell_type": "code",
   "execution_count": 685,
   "metadata": {},
   "outputs": [],
   "source": [
    "flight['coach_price_long'] = flight.coach_price[flight.hours == 8]\n",
    "flight['coach_price_medium'] = flight.coach_price[(flight.hours >= 4) & (flight.hours < 8)]\n",
    "flight['coach_price_short'] = flight.coach_price[flight.hours < 4]"
   ]
  },
  {
   "cell_type": "code",
   "execution_count": 686,
   "metadata": {
    "scrolled": false
   },
   "outputs": [
    {
     "data": {
      "text/html": [
       "<div>\n",
       "<style scoped>\n",
       "    .dataframe tbody tr th:only-of-type {\n",
       "        vertical-align: middle;\n",
       "    }\n",
       "\n",
       "    .dataframe tbody tr th {\n",
       "        vertical-align: top;\n",
       "    }\n",
       "\n",
       "    .dataframe thead th {\n",
       "        text-align: right;\n",
       "    }\n",
       "</style>\n",
       "<table border=\"1\" class=\"dataframe\">\n",
       "  <thead>\n",
       "    <tr style=\"text-align: right;\">\n",
       "      <th></th>\n",
       "      <th>miles</th>\n",
       "      <th>passengers</th>\n",
       "      <th>delay</th>\n",
       "      <th>inflight_meal</th>\n",
       "      <th>inflight_entertainment</th>\n",
       "      <th>inflight_wifi</th>\n",
       "      <th>day_of_week</th>\n",
       "      <th>redeye</th>\n",
       "      <th>weekend</th>\n",
       "      <th>coach_price</th>\n",
       "      <th>firstclass_price</th>\n",
       "      <th>hours</th>\n",
       "      <th>coach_price_long</th>\n",
       "      <th>coach_price_medium</th>\n",
       "      <th>coach_price_short</th>\n",
       "    </tr>\n",
       "  </thead>\n",
       "  <tbody>\n",
       "    <tr>\n",
       "      <th>0</th>\n",
       "      <td>792</td>\n",
       "      <td>172</td>\n",
       "      <td>0</td>\n",
       "      <td>No</td>\n",
       "      <td>Yes</td>\n",
       "      <td>Yes</td>\n",
       "      <td>Sunday</td>\n",
       "      <td>Yes</td>\n",
       "      <td>Yes</td>\n",
       "      <td>338.820</td>\n",
       "      <td>1571.02</td>\n",
       "      <td>1</td>\n",
       "      <td>NaN</td>\n",
       "      <td>NaN</td>\n",
       "      <td>338.820</td>\n",
       "    </tr>\n",
       "    <tr>\n",
       "      <th>1</th>\n",
       "      <td>3163</td>\n",
       "      <td>214</td>\n",
       "      <td>0</td>\n",
       "      <td>No</td>\n",
       "      <td>Yes</td>\n",
       "      <td>Yes</td>\n",
       "      <td>Sunday</td>\n",
       "      <td>No</td>\n",
       "      <td>Yes</td>\n",
       "      <td>472.655</td>\n",
       "      <td>1663.70</td>\n",
       "      <td>6</td>\n",
       "      <td>NaN</td>\n",
       "      <td>472.655</td>\n",
       "      <td>NaN</td>\n",
       "    </tr>\n",
       "    <tr>\n",
       "      <th>2</th>\n",
       "      <td>1832</td>\n",
       "      <td>212</td>\n",
       "      <td>0</td>\n",
       "      <td>No</td>\n",
       "      <td>Yes</td>\n",
       "      <td>No</td>\n",
       "      <td>Friday</td>\n",
       "      <td>No</td>\n",
       "      <td>Yes</td>\n",
       "      <td>351.960</td>\n",
       "      <td>1429.86</td>\n",
       "      <td>3</td>\n",
       "      <td>NaN</td>\n",
       "      <td>NaN</td>\n",
       "      <td>351.960</td>\n",
       "    </tr>\n",
       "    <tr>\n",
       "      <th>3</th>\n",
       "      <td>925</td>\n",
       "      <td>213</td>\n",
       "      <td>0</td>\n",
       "      <td>No</td>\n",
       "      <td>Yes</td>\n",
       "      <td>Yes</td>\n",
       "      <td>Saturday</td>\n",
       "      <td>No</td>\n",
       "      <td>Yes</td>\n",
       "      <td>387.835</td>\n",
       "      <td>1558.76</td>\n",
       "      <td>2</td>\n",
       "      <td>NaN</td>\n",
       "      <td>NaN</td>\n",
       "      <td>387.835</td>\n",
       "    </tr>\n",
       "    <tr>\n",
       "      <th>4</th>\n",
       "      <td>967</td>\n",
       "      <td>217</td>\n",
       "      <td>0</td>\n",
       "      <td>Yes</td>\n",
       "      <td>Yes</td>\n",
       "      <td>Yes</td>\n",
       "      <td>Monday</td>\n",
       "      <td>No</td>\n",
       "      <td>No</td>\n",
       "      <td>374.735</td>\n",
       "      <td>1245.58</td>\n",
       "      <td>2</td>\n",
       "      <td>NaN</td>\n",
       "      <td>NaN</td>\n",
       "      <td>374.735</td>\n",
       "    </tr>\n",
       "  </tbody>\n",
       "</table>\n",
       "</div>"
      ],
      "text/plain": [
       "   miles  passengers  delay inflight_meal inflight_entertainment  \\\n",
       "0    792         172      0            No                    Yes   \n",
       "1   3163         214      0            No                    Yes   \n",
       "2   1832         212      0            No                    Yes   \n",
       "3    925         213      0            No                    Yes   \n",
       "4    967         217      0           Yes                    Yes   \n",
       "\n",
       "  inflight_wifi day_of_week redeye weekend  coach_price  firstclass_price  \\\n",
       "0           Yes      Sunday    Yes     Yes      338.820           1571.02   \n",
       "1           Yes      Sunday     No     Yes      472.655           1663.70   \n",
       "2            No      Friday     No     Yes      351.960           1429.86   \n",
       "3           Yes    Saturday     No     Yes      387.835           1558.76   \n",
       "4           Yes      Monday     No      No      374.735           1245.58   \n",
       "\n",
       "   hours  coach_price_long  coach_price_medium  coach_price_short  \n",
       "0      1               NaN                 NaN            338.820  \n",
       "1      6               NaN             472.655                NaN  \n",
       "2      3               NaN                 NaN            351.960  \n",
       "3      2               NaN                 NaN            387.835  \n",
       "4      2               NaN                 NaN            374.735  "
      ]
     },
     "execution_count": 686,
     "metadata": {},
     "output_type": "execute_result"
    }
   ],
   "source": [
    "flight.head()"
   ]
  },
  {
   "cell_type": "code",
   "execution_count": 687,
   "metadata": {},
   "outputs": [
    {
     "data": {
      "text/plain": [
       "['coach_price_long', 'coach_price_medium', 'coach_price_short']"
      ]
     },
     "execution_count": 687,
     "metadata": {},
     "output_type": "execute_result"
    }
   ],
   "source": [
    "journey = list(flight.columns.to_list()[-3:])\n",
    "journey"
   ]
  },
  {
   "cell_type": "code",
   "execution_count": 688,
   "metadata": {},
   "outputs": [
    {
     "data": {
      "text/plain": [
       "2634"
      ]
     },
     "execution_count": 688,
     "metadata": {},
     "output_type": "execute_result"
    }
   ],
   "source": [
    "len(flight['coach_price_long']) - flight['coach_price_long'].isna().sum()"
   ]
  },
  {
   "cell_type": "code",
   "execution_count": 689,
   "metadata": {},
   "outputs": [
    {
     "data": {
      "image/png": "[encoded data removed]",
      "text/plain": [
       "<Figure size 640x480 with 1 Axes>"
      ]
     },
     "metadata": {},
     "output_type": "display_data"
    }
   ],
   "source": [
    "for cat in journey:\n",
    "    sns.histplot(x=cat, data=flight, color='darkgreen', bins=15)\n",
    "    if cat == 'coach_price_long':\n",
    "        plt.title('Distribution of 8 hour long flights')\n",
    "        plt.text(x= 200, y=400, s=f'Number of flights: {len(flight[cat]) - flight[cat].isna().sum()}')\n",
    "    elif cat == 'coach_price_medium':\n",
    "        plt.title('Distribution of 4-8 hour long flights')\n",
    "        plt.text(x= 100, y=10000, s=f'Number of flights: {len(flight[cat]) - flight[cat].isna().sum()}')\n",
    "    else:\n",
    "        plt.title('Distribution of < 4 hour long flights')\n",
    "        plt.text(x= 100, y=10000, s=f'Number of flights: {len(flight[cat]) - flight[cat].isna().sum()}')\n",
    "    plt.xlabel('Coach prices [$]')\n",
    "    plt.ylabel('Count [number of flights]')\n",
    "    plt.show()\n",
    "    plt.clf()"
   ]
  },
  {
   "cell_type": "code",
   "execution_count": null,
   "metadata": {},
   "outputs": [],
   "source": [
    "sns.boxplot(x='coach_price_long', data=flight, color='brown')\n",
    "plt.title('Boxplot of \"coach prices\" in 8 hour-long flights')\n",
    "plt.xlabel('Coach prices ($)')\n",
    "plt.show()\n",
    "plt.clf()"
   ]
  },
  {
   "cell_type": "code",
   "execution_count": null,
   "metadata": {},
   "outputs": [],
   "source": [
    "flight.coach_price_long.isna().sum()"
   ]
  },
  {
   "cell_type": "code",
   "execution_count": null,
   "metadata": {},
   "outputs": [],
   "source": [
    "flight.coach_price_long.isna().value_counts().loc[True]"
   ]
  },
  {
   "cell_type": "code",
   "execution_count": null,
   "metadata": {},
   "outputs": [],
   "source": [
    "flight_long = flight.coach_price_long.dropna().reset_index()"
   ]
  },
  {
   "cell_type": "code",
   "execution_count": null,
   "metadata": {},
   "outputs": [],
   "source": [
    "flight_long.drop(['index'], axis=1, inplace=True)"
   ]
  },
  {
   "cell_type": "code",
   "execution_count": null,
   "metadata": {},
   "outputs": [],
   "source": [
    "flight_long"
   ]
  },
  {
   "cell_type": "code",
   "execution_count": null,
   "metadata": {},
   "outputs": [],
   "source": [
    "#Check the boxplot, we can make boxplot and histplot with Nan values, dropna is needless if we want to calculate"
   ]
  },
  {
   "cell_type": "code",
   "execution_count": null,
   "metadata": {},
   "outputs": [],
   "source": [
    "sns.boxplot(x='coach_price_long', data=flight_long, color='brown')\n",
    "plt.title('Boxplot of \"coach prices\" in 8 hour-long flights', fontsize=10)\n",
    "plt.xlabel('Coach prices ($)', fontsize=9)\n",
    "plt.show()\n",
    "plt.clf()"
   ]
  },
  {
   "cell_type": "code",
   "execution_count": null,
   "metadata": {},
   "outputs": [],
   "source": [
    "np.min(flight_long.coach_price_long)"
   ]
  },
  {
   "cell_type": "code",
   "execution_count": null,
   "metadata": {},
   "outputs": [],
   "source": [
    "np.percentile(flight_long.coach_price_long, [75,100])"
   ]
  },
  {
   "cell_type": "code",
   "execution_count": null,
   "metadata": {},
   "outputs": [],
   "source": [
    "np.percentile(flight_long.coach_price_long, [75,86])"
   ]
  },
  {
   "cell_type": "code",
   "execution_count": null,
   "metadata": {},
   "outputs": [],
   "source": [
    "print('The $500 ticket price is more reasonable for an 8 hour-long-flight, because it is at the bottom of the fourth quantile.')\n"
   ]
  },
  {
   "cell_type": "markdown",
   "metadata": {},
   "source": [
    "3. How are flight delay times distributed? Let's say there is a short amount of time between two connecting flights, and a flight delay would put the client at risk of missing their connecting flight. You want to better understand how often there are large delays so you can correctly set up connecting flights. What kinds of delays are typical?"
   ]
  },
  {
   "cell_type": "code",
   "execution_count": null,
   "metadata": {},
   "outputs": [],
   "source": [
    "print(flight.delay.unique())"
   ]
  },
  {
   "cell_type": "code",
   "execution_count": null,
   "metadata": {},
   "outputs": [],
   "source": [
    "big_delays = flight.delay[flight.delay > 58]"
   ]
  },
  {
   "cell_type": "code",
   "execution_count": null,
   "metadata": {},
   "outputs": [],
   "source": [
    "## Task 3\n",
    "big_delays = flight.delay[flight.delay > 58]\n",
    "sns.histplot(big_delays, kde=True, bins=11, color='darkred')\n",
    "plt.title('Distribution of \"relevant delays\" (more than one hour)', fontsize=10)\n",
    "plt.xlabel('Minutes of delays', fontsize=9)\n",
    "plt.ylabel('Count (number of delays)', fontsize=9)\n",
    "plt.text(x= 1500, y= 25, s=f'''The number of delays in range of \\n {np.min(big_delays)} and {np.max(big_delays)} minutes is {len(big_delays)}\n",
    "out of the total {len(flight.delay):,} flights''', fontsize=8, color='darkred')\n",
    "plt.show()\n",
    "plt.clf()"
   ]
  },
  {
   "cell_type": "code",
   "execution_count": null,
   "metadata": {},
   "outputs": [],
   "source": [
    "small_delays = flight.delay[(flight.delay >= 9) & (flight.delay <= 58)]\n",
    "sns.histplot(small_delays, kde=True, bins=11, color='darkgreen')\n",
    "plt.title('Distribution of \"not relevant delays\" (less than one hour)', fontsize=10)\n",
    "plt.xlabel('Minutes of delays', fontsize=9)\n",
    "plt.ylabel('Count (number of delays)', fontsize=9)\n",
    "plt.text(x= 30, y= 40000, s=f'''The number of delays in range of \\n {np.min(small_delays)} and {np.max(small_delays)} minutes is {len(small_delays)}\n",
    "out of the total {len(flight.delay):,} flights''', fontsize=8, color='green')\n",
    "plt.show()\n",
    "plt.clf()"
   ]
  },
  {
   "cell_type": "code",
   "execution_count": null,
   "metadata": {},
   "outputs": [],
   "source": [
    "print(f'''You can see that more than \"70%\" of the flights had delays but not relevant (less than 1 hour),\n",
    "and less than \"0.1%\" of the total flights had relevant delays, meaning circa 24-26 hours.\n",
    "It also means that almost \"30%\" of the flights had no delays at all, more precisely the number of delays\n",
    "having less than 9 minutes is {flight.delay[flight.delay < 9].count()} out of {len(flight.coach_price)} flights.''')"
   ]
  },
  {
   "cell_type": "code",
   "execution_count": null,
   "metadata": {},
   "outputs": [],
   "source": [
    "flight.delay[flight.delay < 9].count()"
   ]
  },
  {
   "cell_type": "markdown",
   "metadata": {},
   "source": [
    "## Bivariate Analysis"
   ]
  },
  {
   "cell_type": "markdown",
   "metadata": {},
   "source": [
    "4. Create a visualization that shows the relationship between coach and first-class prices. What is the relationship between these two prices? Do flights with higher coach prices always have higher first-class prices as well?"
   ]
  },
  {
   "cell_type": "code",
   "execution_count": null,
   "metadata": {},
   "outputs": [],
   "source": [
    "## Task 4"
   ]
  },
  {
   "cell_type": "code",
   "execution_count": null,
   "metadata": {},
   "outputs": [],
   "source": [
    "sns.scatterplot(x='coach_price', y='firstclass_price', data=flight, hue='weekend', alpha=0.4)\n",
    "plt.title('Relationship between coach and firstclass prices', fontsize=10)\n",
    "plt.xlabel('Coach prices ($)', fontsize=9)\n",
    "plt.ylabel('Firstclass prices ($)', fontsize=9)\n",
    "plt.show()\n",
    "plt.clf()"
   ]
  },
  {
   "cell_type": "code",
   "execution_count": null,
   "metadata": {},
   "outputs": [],
   "source": [
    "print('''The scatterplot shows not just that higher coach prices have higher firstclass prices, which means there is a positive \n",
    "correlation between them, but it is absolutely sure, that flying on weekdays is much cheaper than at weekends.''')"
   ]
  },
  {
   "cell_type": "markdown",
   "metadata": {},
   "source": [
    "5. What is the relationship between coach prices and inflight features &mdash; inflight meal, inflight entertainment, and inflight WiFi? Which features are associated with the highest increase in price?"
   ]
  },
  {
   "cell_type": "code",
   "execution_count": null,
   "metadata": {},
   "outputs": [],
   "source": [
    "## Task 5\n",
    "\n"
   ]
  },
  {
   "cell_type": "code",
   "execution_count": null,
   "metadata": {
    "scrolled": false
   },
   "outputs": [],
   "source": [
    "sns.boxplot(x='inflight_meal', y='coach_price', data=flight, palette='Set1')\n",
    "plt.title('Relationship between inflight meal and coach price', fontsize=10)\n",
    "plt.show()\n",
    "plt.clf()"
   ]
  },
  {
   "cell_type": "code",
   "execution_count": null,
   "metadata": {},
   "outputs": [],
   "source": [
    "sns.boxplot(x='inflight_entertainment', y='coach_price', data=flight, palette='Set1')\n",
    "plt.title('Relationship between inflight entertainment and coach price', fontsize=10)\n",
    "plt.show()\n",
    "plt.clf()"
   ]
  },
  {
   "cell_type": "code",
   "execution_count": null,
   "metadata": {},
   "outputs": [],
   "source": [
    "sns.boxplot(x='inflight_wifi', y='coach_price', data=flight, palette='Set1')\n",
    "plt.title('Relationship between inflight_wifi and coach price', fontsize=10)\n",
    "plt.show()\n",
    "plt.clf()"
   ]
  },
  {
   "cell_type": "code",
   "execution_count": null,
   "metadata": {},
   "outputs": [],
   "source": [
    "inflight_services = ['inflight_meal', 'inflight_entertainment', 'inflight_wifi']"
   ]
  },
  {
   "cell_type": "code",
   "execution_count": null,
   "metadata": {},
   "outputs": [],
   "source": [
    "for serv in inflight_services:\n",
    "    sns.displot(x='coach_price', data = flight, hue=serv, palette='dark')\n",
    "    plt.show()\n",
    "    plt.clf()"
   ]
  },
  {
   "cell_type": "code",
   "execution_count": null,
   "metadata": {},
   "outputs": [],
   "source": [
    "print('''Meal does not have much effect on coach prices, but wifi has little and entertainment is the most \n",
    "influential among them. On the other hand you can see that people are more likely buy a ticket for a flight if \n",
    "that has wifi and/or entertainment, and no meals are preferable.''')"
   ]
  },
  {
   "cell_type": "markdown",
   "metadata": {},
   "source": [
    "6. How does the number of passengers change in relation to the length of flights?"
   ]
  },
  {
   "cell_type": "code",
   "execution_count": null,
   "metadata": {},
   "outputs": [],
   "source": [
    "## Task 6\n",
    "\n"
   ]
  },
  {
   "cell_type": "code",
   "execution_count": null,
   "metadata": {},
   "outputs": [],
   "source": [
    "sns.set_palette(\"Spectral\")\n",
    "sns.barplot(x='hours', y='passengers', data=flight)\n",
    "plt.title('Average number of passengers depending on flight hours', fontsize=10)\n",
    "plt.xlabel('Flight hours', fontsize=9)\n",
    "plt.ylabel('Number of passengers', fontsize=9)\n",
    "plt.show()\n",
    "plt.clf()"
   ]
  },
  {
   "cell_type": "code",
   "execution_count": null,
   "metadata": {},
   "outputs": [],
   "source": [
    "model = sm.OLS.from_formula('firstclass_price ~ coach_price', data=flight).fit()\n",
    "pred_400 = model.params[0] + model.params[1]*400\n",
    "#print(model.params)\n",
    "#print(pred_400)\n",
    "a = 700\n",
    "data = {'coach_price':[a]}\n",
    "pred_700 = model.predict(data)\n",
    "print(f'If the coach price will exceed the ${a} level, the predicted firstclass price will reach ${int(round(pred_700[0], 3))}.')"
   ]
  },
  {
   "cell_type": "code",
   "execution_count": null,
   "metadata": {},
   "outputs": [],
   "source": [
    "model.params"
   ]
  },
  {
   "cell_type": "code",
   "execution_count": null,
   "metadata": {},
   "outputs": [],
   "source": [
    "model.summary()"
   ]
  },
  {
   "cell_type": "code",
   "execution_count": null,
   "metadata": {},
   "outputs": [],
   "source": [
    "fitted_values = model.predict(flight)\n",
    "residuals = flight.firstclass_price - fitted_values"
   ]
  },
  {
   "cell_type": "code",
   "execution_count": null,
   "metadata": {},
   "outputs": [],
   "source": [
    "plt.scatter(fitted_values, residuals, color='gray', alpha=0.5)\n",
    "plt.title('Scatter plot of fitted values and residuals of firstclass prices', fontsize=10)\n",
    "plt.xlabel('Fitted values', fontsize=9)\n",
    "plt.ylabel('Residuals', fontsize=9)\n",
    "plt.axhline(0, color='black')\n",
    "plt.show()\n",
    "plt.clf()"
   ]
  },
  {
   "cell_type": "markdown",
   "metadata": {},
   "source": [
    "## Multivariate Analysis"
   ]
  },
  {
   "cell_type": "markdown",
   "metadata": {},
   "source": [
    "7. Visualize the relationship between coach and first-class prices on weekends compared to weekdays."
   ]
  },
  {
   "cell_type": "code",
   "execution_count": null,
   "metadata": {},
   "outputs": [],
   "source": [
    "## Task 7 \n",
    "sns.lmplot(x='coach_price', y='firstclass_price', data=flight, hue='weekend', fit_reg=False)\n",
    "plt.title('Relationship between coach and firstclass prices colored by weekend', fontsize=10)\n",
    "plt.xlabel('Coach prices ($)', fontsize=9)\n",
    "plt.ylabel('Firstclass prices ($)', fontsize=9)\n",
    "plt.plot(flight.coach_price, fitted_values, color='darkblue')\n",
    "plt.text(x=200, y=1200, s='Linear regression line', rotation=46.5)\n",
    "plt.show()\n",
    "plt.clf()"
   ]
  },
  {
   "cell_type": "markdown",
   "metadata": {},
   "source": [
    "8. How do coach prices differ for redeyes and non-redeyes on each day of the week?"
   ]
  },
  {
   "cell_type": "code",
   "execution_count": null,
   "metadata": {},
   "outputs": [],
   "source": [
    "## Task 8\n",
    "sns.scatterplot(x='coach_price', y='redeye', data=flight, hue='day_of_week', alpha=0.8)\n",
    "plt.title('Relationship between coach prices and redeye colored bye \"weekdays\"', fontsize=10)\n",
    "plt.xlabel('Coach prices ($)', fontsize=9)\n",
    "plt.ylabel('Redeye (yes=night flight, no=day flight)', fontsize=9)\n",
    "plt.show()\n",
    "plt.clf()"
   ]
  },
  {
   "cell_type": "code",
   "execution_count": null,
   "metadata": {},
   "outputs": [],
   "source": [
    "plt.figure(figsize=[6,6])\n",
    "sns.boxplot(x='day_of_week', y='coach_price', data=flight, order=['Monday', 'Tuesday', 'Wednesday', 'Thursday', 'Friday', 'Saturday', 'Sunday'], hue='redeye')\n",
    "plt.title('Relationship between days and coach prices colored by \"redeye\"', fontsize=10)\n",
    "plt.xticks(rotation=30)\n",
    "plt.show()\n",
    "plt.clf()"
   ]
  },
  {
   "cell_type": "code",
   "execution_count": null,
   "metadata": {},
   "outputs": [],
   "source": []
  }
 ],
 "metadata": {
  "kernelspec": {
   "display_name": "Python 3",
   "language": "python",
   "name": "python3"
  },
  "language_info": {
   "codemirror_mode": {
    "name": "ipython",
    "version": 3
   },
   "file_extension": ".py",
   "mimetype": "text/x-python",
   "name": "python",
   "nbconvert_exporter": "python",
   "pygments_lexer": "ipython3",
   "version": "3.11.4"
  }
 },
 "nbformat": 4,
 "nbformat_minor": 2
}
